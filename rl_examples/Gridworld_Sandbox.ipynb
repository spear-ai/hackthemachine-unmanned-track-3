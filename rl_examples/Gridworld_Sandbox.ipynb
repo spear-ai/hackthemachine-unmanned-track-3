{
 "cells": [
  {
   "cell_type": "markdown",
   "id": "electric-linux",
   "metadata": {},
   "source": [
    "### Grid World with Q-learning Reinforcement Learning"
   ]
  },
  {
   "cell_type": "markdown",
   "id": "minimal-drinking",
   "metadata": {},
   "source": [
    "The agent-environment interaction\n",
    "\n",
    "The Agent uses Q-learning with initial Q values of 0, a stochasticity parameter for the $\\epsilon$-greedy policy function $\\epsilon=0.05$, and a learning rate $\\alpha = 0.1$.\n",
    "\n",
    "The interaction of the agent with its environments starts at decision stage $t=0$ with the observation of the current state $s_0$. (Notice that there is no reward at this initial stage). The agent then chooses an action to execute at decision stage $t=1$. The environment responds by changing its state to $s_1$ and returning the numerical reward signal $r_1$.\n",
    "\n",
    "##### The environment: Navigation in a gridworld\n",
    "\n",
    "\n",
    "The agent has four possible actions in each state (grid square): cardinal points (NESW). The actions are unreliable. The ACTION moves the agent in the intended direction with probability 0.8, and in a random alternative direction with probability 0.2. If the direction of movement is blocked, the agent remains in the same grid square.\n",
    "\n",
    "A reinforcement learning algorithm is used to compute the best policy for reaching the goal with as few steps as possible while avoiding the predator(s). For this, we will use the following reward function: $-1$ for each navigation action, an additional $+10$ for reaching the goal, and an additional $-15$ for hitting a predator. For example, the immediate reward for transitioning into the goal square is $-1 + 10 = +9$. Do not use discounting (that is, set $\\gamma=1$)."
   ]
  },
  {
   "cell_type": "markdown",
   "id": "unknown-profile",
   "metadata": {},
   "source": [
    "###### Import libraries"
   ]
  },
  {
   "cell_type": "code",
   "execution_count": 317,
   "id": "loose-prayer",
   "metadata": {},
   "outputs": [],
   "source": [
    "import os\n",
    "from datetime import datetime, timedelta\n",
    "import math\n",
    "\n",
    "import geopandas as gpd\n",
    "import numpy as np\n",
    "import numpy.ma as ma\n",
    "import matplotlib.pyplot as plt\n",
    "%matplotlib inline\n",
    "import operator\n",
    "from shapely.geometry import Point"
   ]
  },
  {
   "cell_type": "markdown",
   "id": "specific-original",
   "metadata": {},
   "source": [
    "###### Helper functions"
   ]
  },
  {
   "cell_type": "markdown",
   "id": "suffering-manufacturer",
   "metadata": {},
   "source": [
    "###### Read in a pre-made 24 x 24 cell gameboard (centre-points of each cell)"
   ]
  },
  {
   "cell_type": "code",
   "execution_count": 318,
   "id": "formed-pressure",
   "metadata": {},
   "outputs": [],
   "source": [
    "game_board_gpd = gpd.read_file(\"GameBoard_4326_centrepoints.geojson\")"
   ]
  },
  {
   "cell_type": "code",
   "execution_count": 319,
   "id": "swedish-layout",
   "metadata": {},
   "outputs": [],
   "source": [
    "def _board_loc(bread_crumb):\n",
    "    \"\"\"\n",
    "    Return the lat lon point given the numpy board location\n",
    "    Args:\n",
    "        bread_crumb: tuple (4,2)\n",
    "    Return:\n",
    "        Point\n",
    "    \"\"\"\n",
    "    game_board_id = (bread_crumb[0] +1) + (bread_crumb[1] * 24)\n",
    "    pt_gpd = game_board_gpd.loc[game_board_gpd[\"id\"] == game_board_id]\n",
    "    pt = [(x,y) for x, y in zip(pt_gpd.geometry.x, pt_gpd.geometry.y)]\n",
    "    return Point(pt[0])\n",
    "    \n",
    "# test\n",
    "#print(_board_loc([(4,2), (5,5)])) \n",
    "#print(_board_loc((4,2)))"
   ]
  },
  {
   "cell_type": "markdown",
   "id": "elegant-charge",
   "metadata": {},
   "source": [
    "#### Create Track\n",
    "- From base geojson of 24 x 24 centre-points get the location of the id that corresponds to the bread crumb\n",
    "- geojson top left point is id 1, bottom right is id 576\n",
    "- Bread crumb conversion example:\n",
    "- bread crumb == (4, 2)\n",
    "- bread crumb to id: ((4 +1) + (2 x 24)) = ID 53\n",
    "- write list of crumbs to geojson with timestamp column of 1 hour interval so that Jackson can simulate movement"
   ]
  },
  {
   "cell_type": "code",
   "execution_count": 151,
   "id": "shaped-entrance",
   "metadata": {},
   "outputs": [],
   "source": [
    "# create track\n",
    "def _track(bread_crumb_list, pts_game_board_gpd):\n",
    "    \"\"\"\n",
    "    Args:\n",
    "        bread_crumb_trail: list of tuples of locations on numpy array gameboard\n",
    "        pts_game_board_gpd: Geopandas dataframe of points of the game board\n",
    "                            centrepoints\n",
    "    Returns:\n",
    "        geopandas dataframe of points of the track\n",
    "        with timestamp column to simulate movement over time (1 hour increments) \n",
    "    \"\"\"\n",
    "    geom = [_board_loc(crumb) for crumb in bread_crumb_list]\n",
    "    now = datetime.now()\n",
    "    times = [(now + timedelta(hours=dt)).strftime(\"%Y-%m-%d-%H:%M:%S\") for dt in range(len(bread_crumb_list))]\n",
    "    crumb_ids = [i for i in range(len(bread_crumb_list))]\n",
    "    track_gpd = gpd.GeoDataFrame({\"geometry\": geom, \"time\": times, \"crumb_id\": crumb_ids}, crs=4326)\n",
    "    return track_gpd\n",
    "\n",
    "\n",
    "# test\n",
    "#test_crumbs = [(23,23), (23,22), (23,21)]\n",
    "#track = _track(test_crumbs, game_board_gpd)\n",
    "#print(track.head())"
   ]
  },
  {
   "cell_type": "code",
   "execution_count": 152,
   "id": "killing-deadline",
   "metadata": {},
   "outputs": [],
   "source": [
    "def _id_to_grid_place(grid_id, grid_size=24):\n",
    "    \"\"\"\n",
    "    Return the numpy board location given the dataframe grid id\n",
    "    e.g.: ID 53 in the geodataframe = (4,2)\n",
    "    Args:\n",
    "        grid_id: int, gpd grid id \n",
    "        grid_size: int, size of the numpy grid (same as gpd grid)\n",
    "    Return:\n",
    "        Tuple (4,2) location of gpd id on 24 x 24 numpy array\n",
    "    \"\"\"\n",
    "    gid = grid_id - 1\n",
    "    numpy_id =  (gid - (math.floor(gid / grid_size) * grid_size), math.floor((gid / grid_size))) \n",
    "    return numpy_id\n",
    "    \n",
    "# test\n",
    "# print(_id_to_grid_place(53))\n",
    "# print(_id_to_grid_place(1))\n",
    "# print(_id_to_grid_place(576))"
   ]
  },
  {
   "cell_type": "code",
   "execution_count": 303,
   "id": "corresponding-thing",
   "metadata": {},
   "outputs": [],
   "source": [
    "def _masked_array(game_board_gpd, grid_size=24):\n",
    "    \"\"\"\n",
    "    Create a mask on the grid with value -1 for all cells that are land.\n",
    "    N.B.: This doesn't return a numpy masked array, rather the cell has a -1 penalty,\n",
    "          this is a flaw but serves well enough to represent the path of the smugglers\n",
    "          for visualization and agent behaviour understanding.\n",
    "    Args:\n",
    "        game_board_gpd: GeoDataFrame of points\n",
    "        grid_size: int, default 24\n",
    "    Returns:\n",
    "        list of tuples representing the locations of land cells\n",
    "        \n",
    "    \"\"\"\n",
    "    mask_gpd = game_board_gpd[game_board_gpd.Mask == 1]\n",
    "    mask_locations = [_id_to_grid_place(gpd_id) for gpd_id in mask_gpd.id]\n",
    " \n",
    "    # masked numpy array\n",
    "    base_grid = np.zeros((grid_size, grid_size))\n",
    "    _mask = np.zeros((grid_size, grid_size))\n",
    "    for mask_loc in mask_locations:\n",
    "        _mask[mask_loc[0], mask_loc[1]] = -1\n",
    "    \n",
    "    #masked_grid = ma.array(base_grid, mask =_mask)\n",
    "    #return masked_grid[~masked_grid.mask]\n",
    "    \n",
    "    return _mask\n",
    "\n",
    "#print(_masked_array(game_board_gpd, grid_size=24))"
   ]
  },
  {
   "cell_type": "markdown",
   "id": "understood-swedish",
   "metadata": {},
   "source": [
    "###### Game board environment: Grid World Class "
   ]
  },
  {
   "cell_type": "code",
   "execution_count": 320,
   "id": "opened-arthritis",
   "metadata": {},
   "outputs": [],
   "source": [
    "class GridWorld:\n",
    "    ## Initialise starting data\n",
    "    def __init__(self, grid_height=24, grid_width=24, pred_loc=[(2,3), (14,16)], goal_loc=(0,0), start_loc=(23,17)):\n",
    "        # Set information about the gridworld\n",
    "        self.height = grid_height\n",
    "        self.width = grid_width\n",
    "        self.grid = np.zeros(( self.height, self.width)) - 1\n",
    "        self.grid = _masked_array(game_board_gpd)\n",
    "        \n",
    "        # Set start location\n",
    "        self.current_location = start_loc\n",
    "        \n",
    "        # Set locations for the predators and the goal\n",
    "        self.pred_location = pred_loc\n",
    "        self.goal_location = goal_loc\n",
    "        self.terminal_states = self.pred_location + [self.goal_location]\n",
    "        \n",
    "        # Set grid rewards for special cells\n",
    "        for p in self.pred_location:\n",
    "            self.grid[p[0], p[1]] = -15\n",
    "        self.grid[ self.goal_location[0], self.goal_location[1]] = 10\n",
    "        \n",
    "        # Set available actions\n",
    "        self.actions = ['UP', 'DOWN', 'LEFT', 'RIGHT']\n",
    "        \n",
    "    def get_available_actions(self):\n",
    "        \"\"\"Returns possible actions\"\"\"\n",
    "        return self.actions\n",
    "    \n",
    "    def agent_on_map(self):\n",
    "        \"\"\"Prints out current location of the agent on the grid (used for debugging)\"\"\"\n",
    "        grid = np.zeros(( self.height, self.width))\n",
    "        grid[ self.current_location[0], self.current_location[1]] = 1\n",
    "        return grid\n",
    "    \n",
    "    def get_reward(self, new_location):\n",
    "        \"\"\"Returns the reward for an input position\"\"\"\n",
    "        return self.grid[ new_location[0], new_location[1]]\n",
    "        \n",
    "    \n",
    "    def make_step(self, action):\n",
    "        \"\"\"Moves the agent in the specified direction. If agent is at a border, agent stays still\n",
    "        but takes negative reward. Function returns the reward for the move.\"\"\"\n",
    "        # Store previous location\n",
    "        last_location = self.current_location\n",
    "        \n",
    "        # UP\n",
    "        if action == 'UP':\n",
    "            # If agent is at the top, stay still, collect reward\n",
    "            if last_location[0] == 0:\n",
    "                reward = self.get_reward(last_location)\n",
    "            else:\n",
    "                self.current_location = ( self.current_location[0] - 1, self.current_location[1])\n",
    "                reward = self.get_reward(self.current_location)\n",
    "        \n",
    "        # DOWN\n",
    "        elif action == 'DOWN':\n",
    "            # If agent is at bottom, stay still, collect reward\n",
    "            if last_location[0] == self.height - 1:\n",
    "                reward = self.get_reward(last_location)\n",
    "            else:\n",
    "                self.current_location = ( self.current_location[0] + 1, self.current_location[1])\n",
    "                reward = self.get_reward(self.current_location)\n",
    "            \n",
    "        # LEFT\n",
    "        elif action == 'LEFT':\n",
    "            # If agent is at the left, stay still, collect reward\n",
    "            if last_location[1] == 0:\n",
    "                reward = self.get_reward(last_location)\n",
    "            else:\n",
    "                self.current_location = ( self.current_location[0], self.current_location[1] - 1)\n",
    "                reward = self.get_reward(self.current_location)\n",
    "\n",
    "        # RIGHT\n",
    "        elif action == 'RIGHT':\n",
    "            # If agent is at the right, stay still, collect reward\n",
    "            if last_location[1] == self.width - 1:\n",
    "                reward = self.get_reward(last_location)\n",
    "            else:\n",
    "                self.current_location = ( self.current_location[0], self.current_location[1] + 1)\n",
    "                reward = self.get_reward(self.current_location)\n",
    "                \n",
    "        return reward\n",
    "    \n",
    "    def check_state(self):\n",
    "        \"\"\"Check if the agent is in a terminal state (goal or predator), if so return 'TERMINAL'\"\"\"\n",
    "        if self.current_location in self.terminal_states:\n",
    "            return 'TERMINAL'"
   ]
  },
  {
   "cell_type": "code",
   "execution_count": 321,
   "id": "demographic-beatles",
   "metadata": {},
   "outputs": [],
   "source": [
    "class RandomAgent():        \n",
    "    # Choose a random action\n",
    "    def choose_action(self, available_actions):\n",
    "        \"\"\"Returns a random choice of the available actions\"\"\"\n",
    "        return np.random.choice(available_actions)"
   ]
  },
  {
   "cell_type": "code",
   "execution_count": 322,
   "id": "complete-peninsula",
   "metadata": {},
   "outputs": [],
   "source": [
    "class Q_Agent():\n",
    "    # Intialise\n",
    "    def __init__(self, environment, epsilon=0.05, alpha=0.1, gamma=1):\n",
    "        self.environment = environment\n",
    "        self.q_table = dict() # Store all Q-values in dictionary of dictionaries \n",
    "        for x in range(environment.height): # Loop through all possible grid spaces, create sub-dictionary for each\n",
    "            for y in range(environment.width):\n",
    "                self.q_table[(x,y)] = {'UP':0, 'DOWN':0, 'LEFT':0, 'RIGHT':0} # Populate sub-dictionary with zero values for possible moves\n",
    "\n",
    "        self.epsilon = epsilon\n",
    "        self.alpha = alpha\n",
    "        self.gamma = gamma\n",
    "        \n",
    "    def choose_action(self, available_actions):\n",
    "        \"\"\"Returns the optimal action from Q-Value table. If multiple optimal actions, chooses random choice.\n",
    "        Will make an exploratory random action dependent on epsilon.\"\"\"\n",
    "        if np.random.uniform(0,1) < self.epsilon:\n",
    "            action = available_actions[np.random.randint(0, len(available_actions))]\n",
    "        else:\n",
    "            q_values_of_state = self.q_table[self.environment.current_location]\n",
    "            maxValue = max(q_values_of_state.values())\n",
    "            action = np.random.choice([k for k, v in q_values_of_state.items() if v == maxValue])\n",
    "        \n",
    "        return action\n",
    "    \n",
    "    def learn(self, old_state, reward, new_state, action):\n",
    "        \"\"\"Updates the Q-value table using Q-learning\"\"\"\n",
    "        q_values_of_state = self.q_table[new_state]\n",
    "        max_q_value_in_new_state = max(q_values_of_state.values())\n",
    "        current_q_value = self.q_table[old_state][action]\n",
    "        \n",
    "        self.q_table[old_state][action] = (1 - self.alpha) * current_q_value + self.alpha * (reward + self.gamma * max_q_value_in_new_state)\n"
   ]
  },
  {
   "cell_type": "code",
   "execution_count": 323,
   "id": "tired-twins",
   "metadata": {},
   "outputs": [],
   "source": [
    "def play(environment, agent, trials=500, max_steps_per_episode=1000, learn=False):\n",
    "    \"\"\"The play function runs iterations and updates Q-values if desired.\"\"\"\n",
    "    reward_per_episode = [] # Initialise performance log\n",
    "    bread_crumbs_per_episode = []\n",
    "    \n",
    "    for trial in range(trials): # Run trials\n",
    "        cumulative_reward = 0 # Initialise values of each game\n",
    "        step = 0\n",
    "        game_over = False\n",
    "        crumbs = []\n",
    "        while step < max_steps_per_episode and game_over != True: # Run until max steps or until game is finished\n",
    "            old_state = environment.current_location\n",
    "            action = agent.choose_action(environment.actions) \n",
    "            reward = environment.make_step(action)\n",
    "            new_state = environment.current_location\n",
    "            \n",
    "            if learn == True: # Update Q-values if learning is specified\n",
    "                agent.learn(old_state, reward, new_state, action)\n",
    "                \n",
    "            cumulative_reward += reward\n",
    "            step += 1\n",
    "            #crumbs.append(environment.agent_on_map())\n",
    "            crumbs.append(environment.current_location)\n",
    "            \n",
    "            if environment.check_state() == 'TERMINAL': # If game is in terminal state, game over and start next trial\n",
    "                environment.__init__()\n",
    "                game_over = True     \n",
    "                \n",
    "        reward_per_episode.append(cumulative_reward) # Append reward for current trial to performance log\n",
    "        bread_crumbs_per_episode.append(crumbs)\n",
    "        \n",
    "    return reward_per_episode, bread_crumbs_per_episode # Return performance log"
   ]
  },
  {
   "cell_type": "markdown",
   "id": "consolidated-durham",
   "metadata": {},
   "source": [
    "#### Run Random Agent\n",
    "- Random agent moves randomly and does not learn from it's actions.\n",
    "- This gives a base performance to compare the Q-Learning agent to"
   ]
  },
  {
   "cell_type": "code",
   "execution_count": 308,
   "id": "opponent-testament",
   "metadata": {},
   "outputs": [
    {
     "name": "stdout",
     "output_type": "stream",
     "text": [
      "Current position of the agent = (23, 17)\n",
      "[[0. 0. 0. 0. 0. 0. 0. 0. 0. 0. 0. 0. 0. 0. 0. 0. 0. 0. 0. 0. 0. 0. 0. 0.]\n",
      " [0. 0. 0. 0. 0. 0. 0. 0. 0. 0. 0. 0. 0. 0. 0. 0. 0. 0. 0. 0. 0. 0. 0. 0.]\n",
      " [0. 0. 0. 0. 0. 0. 0. 0. 0. 0. 0. 0. 0. 0. 0. 0. 0. 0. 0. 0. 0. 0. 0. 0.]\n",
      " [0. 0. 0. 0. 0. 0. 0. 0. 0. 0. 0. 0. 0. 0. 0. 0. 0. 0. 0. 0. 0. 0. 0. 0.]\n",
      " [0. 0. 0. 0. 0. 0. 0. 0. 0. 0. 0. 0. 0. 0. 0. 0. 0. 0. 0. 0. 0. 0. 0. 0.]\n",
      " [0. 0. 0. 0. 0. 0. 0. 0. 0. 0. 0. 0. 0. 0. 0. 0. 0. 0. 0. 0. 0. 0. 0. 0.]\n",
      " [0. 0. 0. 0. 0. 0. 0. 0. 0. 0. 0. 0. 0. 0. 0. 0. 0. 0. 0. 0. 0. 0. 0. 0.]\n",
      " [0. 0. 0. 0. 0. 0. 0. 0. 0. 0. 0. 0. 0. 0. 0. 0. 0. 0. 0. 0. 0. 0. 0. 0.]\n",
      " [0. 0. 0. 0. 0. 0. 0. 0. 0. 0. 0. 0. 0. 0. 0. 0. 0. 0. 0. 0. 0. 0. 0. 0.]\n",
      " [0. 0. 0. 0. 0. 0. 0. 0. 0. 0. 0. 0. 0. 0. 0. 0. 0. 0. 0. 0. 0. 0. 0. 0.]\n",
      " [0. 0. 0. 0. 0. 0. 0. 0. 0. 0. 0. 0. 0. 0. 0. 0. 0. 0. 0. 0. 0. 0. 0. 0.]\n",
      " [0. 0. 0. 0. 0. 0. 0. 0. 0. 0. 0. 0. 0. 0. 0. 0. 0. 0. 0. 0. 0. 0. 0. 0.]\n",
      " [0. 0. 0. 0. 0. 0. 0. 0. 0. 0. 0. 0. 0. 0. 0. 0. 0. 0. 0. 0. 0. 0. 0. 0.]\n",
      " [0. 0. 0. 0. 0. 0. 0. 0. 0. 0. 0. 0. 0. 0. 0. 0. 0. 0. 0. 0. 0. 0. 0. 0.]\n",
      " [0. 0. 0. 0. 0. 0. 0. 0. 0. 0. 0. 0. 0. 0. 0. 0. 0. 0. 0. 0. 0. 0. 0. 0.]\n",
      " [0. 0. 0. 0. 0. 0. 0. 0. 0. 0. 0. 0. 0. 0. 0. 0. 0. 0. 0. 0. 0. 0. 0. 0.]\n",
      " [0. 0. 0. 0. 0. 0. 0. 0. 0. 0. 0. 0. 0. 0. 0. 0. 0. 0. 0. 0. 0. 0. 0. 0.]\n",
      " [0. 0. 0. 0. 0. 0. 0. 0. 0. 0. 0. 0. 0. 0. 0. 0. 0. 0. 0. 0. 0. 0. 0. 0.]\n",
      " [0. 0. 0. 0. 0. 0. 0. 0. 0. 0. 0. 0. 0. 0. 0. 0. 0. 0. 0. 0. 0. 0. 0. 0.]\n",
      " [0. 0. 0. 0. 0. 0. 0. 0. 0. 0. 0. 0. 0. 0. 0. 0. 0. 0. 0. 0. 0. 0. 0. 0.]\n",
      " [0. 0. 0. 0. 0. 0. 0. 0. 0. 0. 0. 0. 0. 0. 0. 0. 0. 0. 0. 0. 0. 0. 0. 0.]\n",
      " [0. 0. 0. 0. 0. 0. 0. 0. 0. 0. 0. 0. 0. 0. 0. 0. 0. 0. 0. 0. 0. 0. 0. 0.]\n",
      " [0. 0. 0. 0. 0. 0. 0. 0. 0. 0. 0. 0. 0. 0. 0. 0. 0. 0. 0. 0. 0. 0. 0. 0.]\n",
      " [0. 0. 0. 0. 0. 0. 0. 0. 0. 0. 0. 0. 0. 0. 0. 0. 0. 1. 0. 0. 0. 0. 0. 0.]]\n",
      "Available_actions = ['UP', 'DOWN', 'LEFT', 'RIGHT']\n",
      "Randomly chosen action = DOWN\n",
      "Reward obtained = 0.0\n",
      "Current position of the agent = (23, 17)\n",
      "[[0. 0. 0. 0. 0. 0. 0. 0. 0. 0. 0. 0. 0. 0. 0. 0. 0. 0. 0. 0. 0. 0. 0. 0.]\n",
      " [0. 0. 0. 0. 0. 0. 0. 0. 0. 0. 0. 0. 0. 0. 0. 0. 0. 0. 0. 0. 0. 0. 0. 0.]\n",
      " [0. 0. 0. 0. 0. 0. 0. 0. 0. 0. 0. 0. 0. 0. 0. 0. 0. 0. 0. 0. 0. 0. 0. 0.]\n",
      " [0. 0. 0. 0. 0. 0. 0. 0. 0. 0. 0. 0. 0. 0. 0. 0. 0. 0. 0. 0. 0. 0. 0. 0.]\n",
      " [0. 0. 0. 0. 0. 0. 0. 0. 0. 0. 0. 0. 0. 0. 0. 0. 0. 0. 0. 0. 0. 0. 0. 0.]\n",
      " [0. 0. 0. 0. 0. 0. 0. 0. 0. 0. 0. 0. 0. 0. 0. 0. 0. 0. 0. 0. 0. 0. 0. 0.]\n",
      " [0. 0. 0. 0. 0. 0. 0. 0. 0. 0. 0. 0. 0. 0. 0. 0. 0. 0. 0. 0. 0. 0. 0. 0.]\n",
      " [0. 0. 0. 0. 0. 0. 0. 0. 0. 0. 0. 0. 0. 0. 0. 0. 0. 0. 0. 0. 0. 0. 0. 0.]\n",
      " [0. 0. 0. 0. 0. 0. 0. 0. 0. 0. 0. 0. 0. 0. 0. 0. 0. 0. 0. 0. 0. 0. 0. 0.]\n",
      " [0. 0. 0. 0. 0. 0. 0. 0. 0. 0. 0. 0. 0. 0. 0. 0. 0. 0. 0. 0. 0. 0. 0. 0.]\n",
      " [0. 0. 0. 0. 0. 0. 0. 0. 0. 0. 0. 0. 0. 0. 0. 0. 0. 0. 0. 0. 0. 0. 0. 0.]\n",
      " [0. 0. 0. 0. 0. 0. 0. 0. 0. 0. 0. 0. 0. 0. 0. 0. 0. 0. 0. 0. 0. 0. 0. 0.]\n",
      " [0. 0. 0. 0. 0. 0. 0. 0. 0. 0. 0. 0. 0. 0. 0. 0. 0. 0. 0. 0. 0. 0. 0. 0.]\n",
      " [0. 0. 0. 0. 0. 0. 0. 0. 0. 0. 0. 0. 0. 0. 0. 0. 0. 0. 0. 0. 0. 0. 0. 0.]\n",
      " [0. 0. 0. 0. 0. 0. 0. 0. 0. 0. 0. 0. 0. 0. 0. 0. 0. 0. 0. 0. 0. 0. 0. 0.]\n",
      " [0. 0. 0. 0. 0. 0. 0. 0. 0. 0. 0. 0. 0. 0. 0. 0. 0. 0. 0. 0. 0. 0. 0. 0.]\n",
      " [0. 0. 0. 0. 0. 0. 0. 0. 0. 0. 0. 0. 0. 0. 0. 0. 0. 0. 0. 0. 0. 0. 0. 0.]\n",
      " [0. 0. 0. 0. 0. 0. 0. 0. 0. 0. 0. 0. 0. 0. 0. 0. 0. 0. 0. 0. 0. 0. 0. 0.]\n",
      " [0. 0. 0. 0. 0. 0. 0. 0. 0. 0. 0. 0. 0. 0. 0. 0. 0. 0. 0. 0. 0. 0. 0. 0.]\n",
      " [0. 0. 0. 0. 0. 0. 0. 0. 0. 0. 0. 0. 0. 0. 0. 0. 0. 0. 0. 0. 0. 0. 0. 0.]\n",
      " [0. 0. 0. 0. 0. 0. 0. 0. 0. 0. 0. 0. 0. 0. 0. 0. 0. 0. 0. 0. 0. 0. 0. 0.]\n",
      " [0. 0. 0. 0. 0. 0. 0. 0. 0. 0. 0. 0. 0. 0. 0. 0. 0. 0. 0. 0. 0. 0. 0. 0.]\n",
      " [0. 0. 0. 0. 0. 0. 0. 0. 0. 0. 0. 0. 0. 0. 0. 0. 0. 0. 0. 0. 0. 0. 0. 0.]\n",
      " [0. 0. 0. 0. 0. 0. 0. 0. 0. 0. 0. 0. 0. 0. 0. 0. 0. 1. 0. 0. 0. 0. 0. 0.]]\n"
     ]
    }
   ],
   "source": [
    "env = GridWorld(grid_height=24, grid_width=24, pred_loc=[(2,2)], goal_loc=(0,0), start_loc=(23, 17))\n",
    "agent = RandomAgent()\n",
    "\n",
    "print(\"Current position of the agent =\", env.current_location)\n",
    "print(env.agent_on_map())\n",
    "available_actions = env.get_available_actions()\n",
    "print(\"Available_actions =\", available_actions)\n",
    "chosen_action = agent.choose_action(available_actions)\n",
    "print(\"Randomly chosen action =\", chosen_action)\n",
    "reward = env.make_step(chosen_action)\n",
    "print(\"Reward obtained =\", reward)\n",
    "print(\"Current position of the agent =\", env.current_location)\n",
    "print(env.agent_on_map())"
   ]
  },
  {
   "cell_type": "markdown",
   "id": "executive-memphis",
   "metadata": {},
   "source": [
    "#### Q-Agent\n",
    "- Exeriment with the number of trials until the learning rate converges\n",
    "- Performance is plotted\n",
    "- Add predators to see how the agent's path changes\n",
    "- Change the goal location to see how the agent's path changes"
   ]
  },
  {
   "cell_type": "code",
   "execution_count": 310,
   "id": "shared-cooking",
   "metadata": {},
   "outputs": [
    {
     "data": {
      "text/plain": [
       "[<matplotlib.lines.Line2D at 0x7fc4a1a0bfd0>]"
      ]
     },
     "execution_count": 310,
     "metadata": {},
     "output_type": "execute_result"
    },
    {
     "data": {
      "image/png": "[encoded data removed]",
      "text/plain": [
       "<Figure size 432x288 with 1 Axes>"
      ]
     },
     "metadata": {
      "needs_background": "light"
     },
     "output_type": "display_data"
    }
   ],
   "source": [
    "# GridWorld Environment\n",
    "environment = GridWorld(grid_height=24, grid_width=24, pred_loc=[(2,2), (14, 16)], goal_loc=(0,0), start_loc=(23, 17))\n",
    "agentQ = Q_Agent(environment)\n",
    "\n",
    "# Note the learn=True argument!\n",
    "reward_per_episode, bread_crumbs_per_episode = play(environment, agentQ, trials=20000, learn=True)\n",
    "\n",
    "# Simple learning curve\n",
    "plt.plot(reward_per_episode)"
   ]
  },
  {
   "cell_type": "code",
   "execution_count": 244,
   "id": "stylish-mexican",
   "metadata": {},
   "outputs": [
    {
     "name": "stdout",
     "output_type": "stream",
     "text": [
      "(23, 18)\n",
      "(23, 17)\n",
      "(22, 17)\n",
      "(22, 16)\n",
      "(22, 15)\n",
      "(23, 15)\n",
      "(23, 14)\n",
      "(23, 14)\n",
      "(23, 13)\n",
      "(23, 12)\n",
      "(22, 12)\n",
      "(22, 11)\n",
      "(22, 10)\n",
      "(21, 10)\n",
      "(21, 9)\n",
      "(20, 9)\n",
      "(20, 8)\n",
      "(20, 7)\n",
      "(19, 7)\n",
      "(18, 7)\n",
      "(17, 7)\n",
      "(16, 7)\n",
      "(16, 6)\n",
      "(15, 6)\n",
      "(14, 6)\n",
      "(13, 6)\n",
      "(12, 6)\n",
      "(11, 6)\n",
      "(11, 5)\n",
      "(11, 4)\n",
      "(10, 4)\n",
      "(10, 3)\n",
      "(10, 2)\n",
      "(9, 2)\n",
      "(9, 1)\n",
      "(8, 1)\n",
      "(7, 1)\n",
      "(6, 1)\n",
      "(6, 0)\n",
      "(5, 0)\n",
      "(4, 0)\n",
      "(3, 0)\n",
      "(2, 0)\n",
      "(1, 0)\n",
      "(0, 0)\n"
     ]
    }
   ],
   "source": [
    "# print the coordinates for the last episode\n",
    "for b in bread_crumbs_per_episode[-1]:\n",
    "    print(b)"
   ]
  },
  {
   "cell_type": "code",
   "execution_count": 312,
   "id": "headed-photograph",
   "metadata": {},
   "outputs": [],
   "source": [
    "# write the last track to geojson (this one should have the best learned route)\n",
    "track = _track(bread_crumbs_per_episode[-1], game_board_gpd)\n",
    "test_track = \"test_track.geojson\"  \n",
    "track.to_file(test_track, driver=\"GeoJSON\")\n"
   ]
  },
  {
   "cell_type": "markdown",
   "id": "fundamental-amount",
   "metadata": {},
   "source": [
    "##### Write a series of geojsons that represent a progression of the agent learning\n",
    "- Edit the choice of trails as desired\n",
    "- Default 1st, 10% increments, last"
   ]
  },
  {
   "cell_type": "code",
   "execution_count": 316,
   "id": "premier-decline",
   "metadata": {},
   "outputs": [
    {
     "name": "stdout",
     "output_type": "stream",
     "text": [
      "[2000, 4000, 6000, 8000, 10000, 12000, 14000, 16000, 18000, 0, 19999]\n"
     ]
    }
   ],
   "source": [
    "# write track series to geojsons\n",
    "# output_dir = \"path_to/rl_output_dir\"\n",
    "\n",
    "# get bread_crumb trail at 10% increments\n",
    "increments = np.arange(0.1, 1, 0.1)\n",
    "selected_crumbs = [round(len(bread_crumbs_per_episode)*i) for i in increments]\n",
    "# add first trail to the list\n",
    "selected_crumbs.append(0)\n",
    "# add last trail to the list\n",
    "selected_crumbs.append(len(bread_crumbs_per_episode) - 1)\n",
    "\n",
    "\n",
    "for _trail in selected_crumbs:\n",
    "    output_file = f\"track_{_trail}.geojson\"\n",
    "    track = _track(bread_crumbs_per_episode[_trail], game_board_gpd)\n",
    "    # output_file_path = os.path.join(output_dir, output_file) \n",
    "    track.to_file(output_file, driver=\"GeoJSON\")"
   ]
  },
  {
   "cell_type": "code",
   "execution_count": null,
   "id": "speaking-currency",
   "metadata": {},
   "outputs": [],
   "source": []
  }
 ],
 "metadata": {
  "kernelspec": {
   "display_name": "Python 3",
   "language": "python",
   "name": "python3"
  },
  "language_info": {
   "codemirror_mode": {
    "name": "ipython",
    "version": 3
   },
   "file_extension": ".py",
   "mimetype": "text/x-python",
   "name": "python",
   "nbconvert_exporter": "python",
   "pygments_lexer": "ipython3",
   "version": "3.7.9"
  }
 },
 "nbformat": 4,
 "nbformat_minor": 5
}
