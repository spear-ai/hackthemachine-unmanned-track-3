{
 "cells": [
  {
   "cell_type": "code",
   "execution_count": 1,
   "id": "0ed5003d-e545-442a-a736-92387b8ff618",
   "metadata": {},
   "outputs": [],
   "source": [
    "import pandas as pd\n",
    "\n",
    "import warnings\n",
    "warnings.filterwarnings(\"ignore\")\n",
    "\n",
    "df_ais = pd.read_csv('ais_gameboard.csv')\n",
    "df_centers = pd.read_csv('centers72.csv')\n",
    "df_tiles = pd.read_csv('72x72map.csv')"
   ]
  },
  {
   "cell_type": "code",
   "execution_count": 2,
   "id": "b1af8139-5385-417b-8e3f-63870b9e0e0d",
   "metadata": {},
   "outputs": [],
   "source": [
    "#Isolate Lon/Lats\n",
    "df = pd.DataFrame(columns = ['Lon', 'Lat'])\n",
    "c = df_centers['geometry']\n",
    "for i in range(len(c)):\n",
    "    c[i] = c[i].strip(\"POINT (\")\n",
    "    c[i] = c[i].strip(\")\")   \n",
    "df[['Lon', 'Lat']] = c.str.split(' ', expand=True)\n",
    "\n",
    "#Lon/Lat to grid coordinates \n",
    "coords = []\n",
    "for i in range(72):\n",
    "    for j in range(72):\n",
    "        coor = (j, i)\n",
    "        coords.append(coor)\n",
    "df['grid_coords'] = coords\n",
    "df.to_csv('df_centers_clean.csv')"
   ]
  },
  {
   "cell_type": "code",
   "execution_count": 3,
   "id": "9bee7d18-73ad-4865-848c-67f6485df38b",
   "metadata": {},
   "outputs": [
    {
     "name": "stderr",
     "output_type": "stream",
     "text": [
      "  0%|          | 1/228 [00:09<34:03,  9.00s/it]\n"
     ]
    },
    {
     "ename": "KeyboardInterrupt",
     "evalue": "",
     "output_type": "error",
     "traceback": [
      "\u001b[0;31m---------------------------------------------------------------------------\u001b[0m",
      "\u001b[0;31mKeyboardInterrupt\u001b[0m                         Traceback (most recent call last)",
      "\u001b[0;32m<ipython-input-3-2a700a57389e>\u001b[0m in \u001b[0;36m<module>\u001b[0;34m\u001b[0m\n\u001b[1;32m      6\u001b[0m     \u001b[0mdiffs\u001b[0m \u001b[0;34m=\u001b[0m \u001b[0;34m[\u001b[0m\u001b[0;34m]\u001b[0m\u001b[0;34m\u001b[0m\u001b[0;34m\u001b[0m\u001b[0m\n\u001b[1;32m      7\u001b[0m     \u001b[0;32mfor\u001b[0m \u001b[0mj\u001b[0m \u001b[0;32min\u001b[0m \u001b[0mrange\u001b[0m\u001b[0;34m(\u001b[0m\u001b[0mlen\u001b[0m\u001b[0;34m(\u001b[0m\u001b[0mdf\u001b[0m\u001b[0;34m)\u001b[0m\u001b[0;34m)\u001b[0m\u001b[0;34m:\u001b[0m\u001b[0;34m\u001b[0m\u001b[0;34m\u001b[0m\u001b[0m\n\u001b[0;32m----> 8\u001b[0;31m         \u001b[0mdiff_sq\u001b[0m \u001b[0;34m=\u001b[0m \u001b[0;34m(\u001b[0m\u001b[0mdf_ais\u001b[0m\u001b[0;34m[\u001b[0m\u001b[0;34m'Longitude'\u001b[0m\u001b[0;34m]\u001b[0m\u001b[0;34m[\u001b[0m\u001b[0mi\u001b[0m\u001b[0;34m]\u001b[0m \u001b[0;34m-\u001b[0m \u001b[0mdf\u001b[0m\u001b[0;34m[\u001b[0m\u001b[0;34m'Lon'\u001b[0m\u001b[0;34m]\u001b[0m\u001b[0;34m.\u001b[0m\u001b[0mastype\u001b[0m\u001b[0;34m(\u001b[0m\u001b[0mfloat\u001b[0m\u001b[0;34m)\u001b[0m\u001b[0;34m[\u001b[0m\u001b[0mj\u001b[0m\u001b[0;34m]\u001b[0m\u001b[0;34m)\u001b[0m\u001b[0;34m**\u001b[0m\u001b[0;36m2\u001b[0m \u001b[0;34m+\u001b[0m \u001b[0;34m(\u001b[0m\u001b[0mdf_ais\u001b[0m\u001b[0;34m[\u001b[0m\u001b[0;34m'Latitude'\u001b[0m\u001b[0;34m]\u001b[0m\u001b[0;34m[\u001b[0m\u001b[0mi\u001b[0m\u001b[0;34m]\u001b[0m \u001b[0;34m-\u001b[0m \u001b[0mdf\u001b[0m\u001b[0;34m[\u001b[0m\u001b[0;34m'Lat'\u001b[0m\u001b[0;34m]\u001b[0m\u001b[0;34m.\u001b[0m\u001b[0mastype\u001b[0m\u001b[0;34m(\u001b[0m\u001b[0mfloat\u001b[0m\u001b[0;34m)\u001b[0m\u001b[0;34m[\u001b[0m\u001b[0mj\u001b[0m\u001b[0;34m]\u001b[0m\u001b[0;34m)\u001b[0m\u001b[0;34m**\u001b[0m\u001b[0;36m2\u001b[0m\u001b[0;34m\u001b[0m\u001b[0;34m\u001b[0m\u001b[0m\n\u001b[0m\u001b[1;32m      9\u001b[0m         \u001b[0mdiff\u001b[0m \u001b[0;34m=\u001b[0m \u001b[0mdiff_sq\u001b[0m\u001b[0;34m**\u001b[0m\u001b[0;34m(\u001b[0m\u001b[0;36m.5\u001b[0m\u001b[0;34m)\u001b[0m\u001b[0;34m\u001b[0m\u001b[0;34m\u001b[0m\u001b[0m\n\u001b[1;32m     10\u001b[0m         \u001b[0mdiffs\u001b[0m\u001b[0;34m.\u001b[0m\u001b[0mappend\u001b[0m\u001b[0;34m(\u001b[0m\u001b[0mdiff\u001b[0m\u001b[0;34m)\u001b[0m\u001b[0;34m\u001b[0m\u001b[0;34m\u001b[0m\u001b[0m\n",
      "\u001b[0;32m/Applications/anaconda3/lib/python3.8/site-packages/pandas/core/generic.py\u001b[0m in \u001b[0;36mastype\u001b[0;34m(self, dtype, copy, errors)\u001b[0m\n\u001b[1;32m   5875\u001b[0m         \u001b[0;32melse\u001b[0m\u001b[0;34m:\u001b[0m\u001b[0;34m\u001b[0m\u001b[0;34m\u001b[0m\u001b[0m\n\u001b[1;32m   5876\u001b[0m             \u001b[0;31m# else, only a single dtype is given\u001b[0m\u001b[0;34m\u001b[0m\u001b[0;34m\u001b[0m\u001b[0;34m\u001b[0m\u001b[0m\n\u001b[0;32m-> 5877\u001b[0;31m             \u001b[0mnew_data\u001b[0m \u001b[0;34m=\u001b[0m \u001b[0mself\u001b[0m\u001b[0;34m.\u001b[0m\u001b[0m_mgr\u001b[0m\u001b[0;34m.\u001b[0m\u001b[0mastype\u001b[0m\u001b[0;34m(\u001b[0m\u001b[0mdtype\u001b[0m\u001b[0;34m=\u001b[0m\u001b[0mdtype\u001b[0m\u001b[0;34m,\u001b[0m \u001b[0mcopy\u001b[0m\u001b[0;34m=\u001b[0m\u001b[0mcopy\u001b[0m\u001b[0;34m,\u001b[0m \u001b[0merrors\u001b[0m\u001b[0;34m=\u001b[0m\u001b[0merrors\u001b[0m\u001b[0;34m)\u001b[0m\u001b[0;34m\u001b[0m\u001b[0;34m\u001b[0m\u001b[0m\n\u001b[0m\u001b[1;32m   5878\u001b[0m             \u001b[0;32mreturn\u001b[0m \u001b[0mself\u001b[0m\u001b[0;34m.\u001b[0m\u001b[0m_constructor\u001b[0m\u001b[0;34m(\u001b[0m\u001b[0mnew_data\u001b[0m\u001b[0;34m)\u001b[0m\u001b[0;34m.\u001b[0m\u001b[0m__finalize__\u001b[0m\u001b[0;34m(\u001b[0m\u001b[0mself\u001b[0m\u001b[0;34m,\u001b[0m \u001b[0mmethod\u001b[0m\u001b[0;34m=\u001b[0m\u001b[0;34m\"astype\"\u001b[0m\u001b[0;34m)\u001b[0m\u001b[0;34m\u001b[0m\u001b[0;34m\u001b[0m\u001b[0m\n\u001b[1;32m   5879\u001b[0m \u001b[0;34m\u001b[0m\u001b[0m\n",
      "\u001b[0;32m/Applications/anaconda3/lib/python3.8/site-packages/pandas/core/internals/managers.py\u001b[0m in \u001b[0;36mastype\u001b[0;34m(self, dtype, copy, errors)\u001b[0m\n\u001b[1;32m    629\u001b[0m         \u001b[0mself\u001b[0m\u001b[0;34m,\u001b[0m \u001b[0mdtype\u001b[0m\u001b[0;34m,\u001b[0m \u001b[0mcopy\u001b[0m\u001b[0;34m:\u001b[0m \u001b[0mbool\u001b[0m \u001b[0;34m=\u001b[0m \u001b[0;32mFalse\u001b[0m\u001b[0;34m,\u001b[0m \u001b[0merrors\u001b[0m\u001b[0;34m:\u001b[0m \u001b[0mstr\u001b[0m \u001b[0;34m=\u001b[0m \u001b[0;34m\"raise\"\u001b[0m\u001b[0;34m\u001b[0m\u001b[0;34m\u001b[0m\u001b[0m\n\u001b[1;32m    630\u001b[0m     ) -> \"BlockManager\":\n\u001b[0;32m--> 631\u001b[0;31m         \u001b[0;32mreturn\u001b[0m \u001b[0mself\u001b[0m\u001b[0;34m.\u001b[0m\u001b[0mapply\u001b[0m\u001b[0;34m(\u001b[0m\u001b[0;34m\"astype\"\u001b[0m\u001b[0;34m,\u001b[0m \u001b[0mdtype\u001b[0m\u001b[0;34m=\u001b[0m\u001b[0mdtype\u001b[0m\u001b[0;34m,\u001b[0m \u001b[0mcopy\u001b[0m\u001b[0;34m=\u001b[0m\u001b[0mcopy\u001b[0m\u001b[0;34m,\u001b[0m \u001b[0merrors\u001b[0m\u001b[0;34m=\u001b[0m\u001b[0merrors\u001b[0m\u001b[0;34m)\u001b[0m\u001b[0;34m\u001b[0m\u001b[0;34m\u001b[0m\u001b[0m\n\u001b[0m\u001b[1;32m    632\u001b[0m \u001b[0;34m\u001b[0m\u001b[0m\n\u001b[1;32m    633\u001b[0m     def convert(\n",
      "\u001b[0;32m/Applications/anaconda3/lib/python3.8/site-packages/pandas/core/internals/managers.py\u001b[0m in \u001b[0;36mapply\u001b[0;34m(self, f, align_keys, ignore_failures, **kwargs)\u001b[0m\n\u001b[1;32m    425\u001b[0m                     \u001b[0mapplied\u001b[0m \u001b[0;34m=\u001b[0m \u001b[0mb\u001b[0m\u001b[0;34m.\u001b[0m\u001b[0mapply\u001b[0m\u001b[0;34m(\u001b[0m\u001b[0mf\u001b[0m\u001b[0;34m,\u001b[0m \u001b[0;34m**\u001b[0m\u001b[0mkwargs\u001b[0m\u001b[0;34m)\u001b[0m\u001b[0;34m\u001b[0m\u001b[0;34m\u001b[0m\u001b[0m\n\u001b[1;32m    426\u001b[0m                 \u001b[0;32melse\u001b[0m\u001b[0;34m:\u001b[0m\u001b[0;34m\u001b[0m\u001b[0;34m\u001b[0m\u001b[0m\n\u001b[0;32m--> 427\u001b[0;31m                     \u001b[0mapplied\u001b[0m \u001b[0;34m=\u001b[0m \u001b[0mgetattr\u001b[0m\u001b[0;34m(\u001b[0m\u001b[0mb\u001b[0m\u001b[0;34m,\u001b[0m \u001b[0mf\u001b[0m\u001b[0;34m)\u001b[0m\u001b[0;34m(\u001b[0m\u001b[0;34m**\u001b[0m\u001b[0mkwargs\u001b[0m\u001b[0;34m)\u001b[0m\u001b[0;34m\u001b[0m\u001b[0;34m\u001b[0m\u001b[0m\n\u001b[0m\u001b[1;32m    428\u001b[0m             \u001b[0;32mexcept\u001b[0m \u001b[0;34m(\u001b[0m\u001b[0mTypeError\u001b[0m\u001b[0;34m,\u001b[0m \u001b[0mNotImplementedError\u001b[0m\u001b[0;34m)\u001b[0m\u001b[0;34m:\u001b[0m\u001b[0;34m\u001b[0m\u001b[0;34m\u001b[0m\u001b[0m\n\u001b[1;32m    429\u001b[0m                 \u001b[0;32mif\u001b[0m \u001b[0;32mnot\u001b[0m \u001b[0mignore_failures\u001b[0m\u001b[0;34m:\u001b[0m\u001b[0;34m\u001b[0m\u001b[0;34m\u001b[0m\u001b[0m\n",
      "\u001b[0;31mKeyboardInterrupt\u001b[0m: "
     ]
    }
   ],
   "source": [
    "from tqdm import tqdm\n",
    "\n",
    "#1-D index locations of AIS vessels - SLOW \n",
    "df_ais['grid_index'] = pd.Series()\n",
    "for i in tqdm(range(len(df_ais))):\n",
    "    diffs = []\n",
    "    for j in range(len(df)):\n",
    "        diff_sq = (df_ais['Longitude'][i] - df['Lon'].astype(float)[j])**2 + (df_ais['Latitude'][i] - df['Lat'].astype(float)[j])**2\n",
    "        diff = diff_sq**(.5)\n",
    "        diffs.append(diff)\n",
    "    min_diff = min(diffs)\n",
    "    df_ais['grid_index'][i] = diffs.index(min_diff)\n",
    "df_ais.to_csv('df_ais_index.csv')"
   ]
  },
  {
   "cell_type": "code",
   "execution_count": 4,
   "id": "2557b3df-390f-4742-b867-52ba0308f0d0",
   "metadata": {},
   "outputs": [],
   "source": [
    "#1-D to 2-D\n",
    "import numpy as np\n",
    "tiles = df_tiles['Land'].to_numpy()\n",
    "tiles = tiles-1\n",
    "tiles = tiles.reshape(72,72)\n",
    "\n",
    "#tiles = np.rot90(tiles, k=1)\n",
    "#Counter clockwise rotation: A(x,y) becomes A'(-y,x)\n",
    "#tiles = tiles.reshape(5184)"
   ]
  },
  {
   "cell_type": "code",
   "execution_count": 5,
   "id": "6d462116-ab39-4e37-acdd-679c71d95b65",
   "metadata": {},
   "outputs": [
    {
     "data": {
      "image/png": "[encoded data removed]",
      "text/plain": [
       "<Figure size 432x288 with 1 Axes>"
      ]
     },
     "metadata": {
      "needs_background": "light"
     },
     "output_type": "display_data"
    }
   ],
   "source": [
    "#Visualize grid\n",
    "from matplotlib import pyplot as plt\n",
    "plt.imshow(tiles, interpolation='nearest', cmap='bone')\n",
    "plt.show()"
   ]
  },
  {
   "cell_type": "code",
   "execution_count": 6,
   "id": "2316fa32-0475-4a3e-a709-63a361190341",
   "metadata": {},
   "outputs": [],
   "source": [
    "#Origin grid indexes to coordinates\n",
    "land, water = 1, 0  \n",
    "df_ais = pd.read_csv('df_ais_index.csv')\n",
    "df_ais['x'] = pd.Series()\n",
    "df_ais['y'] = pd.Series()\n",
    "for i, val in enumerate(df_ais['grid_index']):\n",
    "    x = round(val % tiles.shape[0])   \n",
    "    y = round(val / tiles.shape[0]) \n",
    "    if x == 72:\n",
    "        x = 71\n",
    "    if y == 72:\n",
    "        y = 71\n",
    "    \n",
    "    #Translate off of land if AIS signal is on or too close\n",
    "    if tiles[y][x] != land:\n",
    "        df_ais['x'][i] = x\n",
    "        df_ais['y'][i] = y\n",
    "        continue\n",
    "    elif y < 71 and tiles[y+1][x] != land:\n",
    "        df_ais['x'][i] = x\n",
    "        df_ais['y'][i] = y+1\n",
    "        continue\n",
    "    elif y > 1 and tiles[y-1][x] != land:\n",
    "        df_ais['x'][i] = x\n",
    "        df_ais['y'][i] = y-1\n",
    "        continue\n",
    "    elif x < 71 and tiles[y][x+1] != land:\n",
    "        df_ais['x'][i] = x+1\n",
    "        df_ais['y'][i] = y\n",
    "        continue\n",
    "    elif x > 1 and tiles[y][x-1] != land:\n",
    "        df_ais['x'][i] = x-1\n",
    "        df_ais['y'][i] = y\n",
    "        continue\n",
    "        \n",
    "    elif x > 2 and tiles[y][x-2] != land:\n",
    "        df_ais['x'][i] = x-2\n",
    "        df_ais['y'][i] = y\n",
    "        continue\n",
    "    elif y > 2 and tiles[y-2][x] != land:\n",
    "        df_ais['x'][i] = x\n",
    "        df_ais['y'][i] = y-2\n",
    "        continue\n",
    "    elif x < 70 and tiles[y][x+2] != land:\n",
    "        df_ais['x'][i] = x+2\n",
    "        df_ais['y'][i] = y\n",
    "        continue\n",
    "    elif y < 70 and tiles[y+2][x] != land:\n",
    "        df_ais['x'][i] = x\n",
    "        df_ais['y'][i] = y+2\n",
    "        continue  \n",
    "        \n",
    "    elif x > 3 and tiles[y][x-3] != land:\n",
    "        df_ais['x'][i] = x-3\n",
    "        df_ais['y'][i] = y\n",
    "        continue\n",
    "    elif y > 3 and tiles[y-3][x] != land:\n",
    "        df_ais['x'][i] = x\n",
    "        df_ais['y'][i] = y-3\n",
    "        continue\n",
    "    elif x < 69 and tiles[y][x+3] != land:\n",
    "        df_ais['x'][i] = x+3\n",
    "        df_ais['y'][i] = y\n",
    "        continue\n",
    "    elif y < 69 and tiles[y+3][x] != land:\n",
    "        df_ais['x'][i] = x\n",
    "        df_ais['y'][i] = y+3\n",
    "        continue  \n",
    "        \n",
    "df_ais.to_csv('df_ais_index_coord.csv')"
   ]
  },
  {
   "cell_type": "code",
   "execution_count": 12,
   "id": "549e0268-c81d-46cc-8538-c7de7c36c92f",
   "metadata": {},
   "outputs": [],
   "source": [
    "import random as rand\n",
    "\n",
    "#Meander behavior\n",
    "def meander(grid, start):\n",
    "    land, water = 1, 0  \n",
    "    direction = rand.choice(['north', 'south', 'east', 'west', 'stay'])\n",
    "    if direction == 'north':\n",
    "        d = (1, 0)\n",
    "    elif direction == 'south':\n",
    "        d = (-1, 0)\n",
    "    elif direction == 'east':\n",
    "        d = (0, 1)\n",
    "    elif direction == 'west':\n",
    "        d = (0, -1)\n",
    "    else:\n",
    "        d = (0, 0)\n",
    "        \n",
    "    y = start[1]+d[1]\n",
    "    x = start[0]+d[0]\n",
    "    if 0 <= x < 72 and 0 <= y < 72 and grid[y][x] != land:\n",
    "        return (x, y)\n",
    "    else:\n",
    "        return(start[0], start[1])\n",
    "        \n",
    "#Stationary behavior       \n",
    "def stationary(start):\n",
    "    return start"
   ]
  },
  {
   "cell_type": "code",
   "execution_count": 8,
   "id": "ad8cc985-8b14-4810-a2f1-28e7cd74fbc3",
   "metadata": {},
   "outputs": [],
   "source": [
    "import collections\n",
    "\n",
    "#Moving along shortest path to random predetermined destination behavior (breadth-first search)\n",
    "def bfs(grid, start):\n",
    "    land, water = 1, 0               \n",
    "    width, height = grid.shape[0], grid.shape[0]\n",
    "    dest_x = rand.randint(0, 72)\n",
    "    dest_y = rand.randint(0, 72)\n",
    "    dest = (dest_x, dest_y)\n",
    "    queue = collections.deque([[start]])\n",
    "    seen = set([start])\n",
    "    while queue:\n",
    "        path = queue.popleft()\n",
    "        x, y = path[-1]\n",
    "        if (x, y) == dest:\n",
    "            return path\n",
    "        for x2, y2 in ((x+1,y), (x-1,y), (x,y+1), (x,y-1)):\n",
    "            if 0 <= x2 < width and 0 <= y2 < height and grid[y2][x2] != land and (x2, y2) not in seen:\n",
    "                queue.append(path + [(x2, y2)])\n",
    "                seen.add((x2, y2))"
   ]
  },
  {
   "cell_type": "code",
   "execution_count": 13,
   "id": "6f8353e0-9653-4c5f-9f16-bab6c7356eb0",
   "metadata": {},
   "outputs": [],
   "source": [
    "#Return random path of vessel\n",
    "def get_path(origin, grid, time_steps):\n",
    "    \n",
    "    behavior = np.random.choice(['stationary', 'meander', 'bfs'], p=[.1, .2, .7])\n",
    "    \n",
    "    if behavior == 'stationary':\n",
    "        path = stationary([origin]*time_steps)\n",
    "        #print('stationary')\n",
    "        \n",
    "    if behavior ==  'meander':\n",
    "        path = []\n",
    "        for i in range(time_steps):\n",
    "            path.append(meander(grid, origin))\n",
    "            origin = meander(grid, origin)\n",
    "        #print('meander')\n",
    "        \n",
    "    if behavior == 'bfs':\n",
    "        #3 bfs trips/paths make up cumulative returned path\n",
    "        path1 = None\n",
    "        while path1 == None or len(path1) <= 18:\n",
    "            path1 = bfs(grid=grid, start=origin)\n",
    "            if path1 != None and len(path1) >= 18:\n",
    "                break\n",
    "\n",
    "        path2 = None\n",
    "        while path2 == None or len(path2) <= 18:\n",
    "            path2 = bfs(grid=grid, start=path1[-1])\n",
    "            if path2 != None and len(path2) >= 18:\n",
    "                break\n",
    "        path2 = path1 + path2\n",
    "\n",
    "        path3 = None\n",
    "        while path3 == None or len(path3) <= 18:\n",
    "            path3 = bfs(grid=grid, start=path2[-1])\n",
    "            if path3 != None and len(path3) >= 18:\n",
    "                break\n",
    "        path3 = path2 + path3\n",
    "        \n",
    "        path4 = None\n",
    "        while path4 == None or len(path4) <= 18:\n",
    "            path4 = bfs(grid=grid, start=path3[-1])\n",
    "            if path4 != None and len(path4) >= 18:\n",
    "                break\n",
    "        path4 = path3 + path4\n",
    "\n",
    "        rep = 4 #Number of time steps spent in one grid square    \n",
    "        path = [entry for entry in path4 for _ in range(rep)]\n",
    "        path = path[:time_steps]\n",
    "        #print('bfs')\n",
    "        \n",
    "    return path"
   ]
  },
  {
   "cell_type": "code",
   "execution_count": 14,
   "id": "37fa0671-af64-411f-ba5d-4ae7a69a30d4",
   "metadata": {},
   "outputs": [
    {
     "name": "stderr",
     "output_type": "stream",
     "text": [
      "100%|██████████| 223/223 [04:02<00:00,  1.09s/it]\n"
     ]
    }
   ],
   "source": [
    "import numpy as np\n",
    "import pandas as pd\n",
    "from tqdm import tqdm\n",
    "\n",
    "df_key = pd.read_csv('df_centers_clean.csv')\n",
    "df_paths = pd.DataFrame(columns = ['idx', 'Longitude', 'Latitude'], index=range(223*288))\n",
    "df_ais = pd.read_csv('df_ais_index_coord.csv')\n",
    "\n",
    "#for i in range(288):\n",
    "#     df_paths[[f'Lon_{i}', f'Lat_{i}']] = None, None\n",
    "    \n",
    "tiles = df_tiles['Land'].to_numpy()\n",
    "tiles = tiles-1\n",
    "tiles = tiles.reshape(72,72)\n",
    "\n",
    "for i in tqdm(range(223)):\n",
    "    x = int(df_ais['x'][i])\n",
    "    y = int(df_ais['y'][i])\n",
    "    \n",
    "    path = get_path(origin=(x, y), grid=tiles, time_steps=288)\n",
    "    #print(path)\n",
    "    for p, coord in enumerate(path):\n",
    "        idx = df_key.index[df_key['grid_coords'] == str(coord)]\n",
    "        lon = df_key['Lon'][idx].values\n",
    "        lat = df_key['Lat'][idx].values\n",
    "       \n",
    "        df_paths['idx'][int(p*223+i)] = p\n",
    "        df_paths['Longitude'][int(p*223+i)] = lon[0]\n",
    "        df_paths['Latitude'][int(p*223+i)] = lat[0]\n",
    "\n",
    "#         df_paths[f\"Lon_{p}\"][i] = lon[0]\n",
    "#         df_paths[f\"Lat_{p}\"][i] = lat[0]\n",
    "df_paths.to_csv('ais_paths.csv', index=False)"
   ]
  },
  {
   "cell_type": "code",
   "execution_count": null,
   "id": "2a10724c-1707-42ef-aaaf-286d8d4294bb",
   "metadata": {},
   "outputs": [],
   "source": [
    "\n"
   ]
  }
 ],
 "metadata": {
  "kernelspec": {
   "display_name": "Python 3",
   "language": "python",
   "name": "python3"
  },
  "language_info": {
   "codemirror_mode": {
    "name": "ipython",
    "version": 3
   },
   "file_extension": ".py",
   "mimetype": "text/x-python",
   "name": "python",
   "nbconvert_exporter": "python",
   "pygments_lexer": "ipython3",
   "version": "3.8.8"
  }
 },
 "nbformat": 4,
 "nbformat_minor": 5
}
